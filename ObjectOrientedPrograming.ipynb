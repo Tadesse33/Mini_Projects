{
 "cells": [
  {
   "cell_type": "markdown",
   "metadata": {},
   "source": [
    "# Object-Oriented Programming (OOP)   Feb. 24, 2019\n",
    "\n",
    "An example for a class defined and integrated with various mathods to manipulate list data (min, max, len, append, reverse, etc)"
   ]
  },
  {
   "cell_type": "code",
   "execution_count": 14,
   "metadata": {},
   "outputs": [],
   "source": [
    "class SuperList():\n",
    "    \"\"\"\n",
    "    A Python list with some extras!\n",
    "    \"\"\"\n",
    "    def __init__(self, initial_state=[]):\n",
    "        self._data = initial_state\n",
    "        self._update()\n",
    "        \n",
    "    def __repr__(self):\n",
    "        string_representation = str(self._data)\n",
    "        return string_representation\n",
    "    \n",
    "    def __eq__(self, other):\n",
    "        is_equal = self.__dict__ == other.__dict__\n",
    "        return is_equal\n",
    "    \n",
    "    def _calc_length(self):\n",
    "        \"\"\"\n",
    "        A helper function to calculate the .length\n",
    "        attribute.\n",
    "        \"\"\"\n",
    "        length = 0\n",
    "        for item in self._data:\n",
    "            length += 1\n",
    "        self.length = length\n",
    "    \n",
    "    def _calc_max(self):\n",
    "        \"\"\"\n",
    "        A helper function to calculate the .max\n",
    "        attribute.\n",
    "        \"\"\"\n",
    "        is_empty = len(self._data) == 0\n",
    "        \n",
    "        types = []\n",
    "        for i in self._data:\n",
    "            i_type = type(i)\n",
    "            if i_type not in types:\n",
    "                types.append(i_type)\n",
    "        more_than_one_type = len(types) > 1\n",
    "\n",
    "        if is_empty or more_than_one_type:\n",
    "            self.max = None\n",
    "        else:\n",
    "            self.max = max(self._data)\n",
    "    \n",
    "    def _calc_min(self):\n",
    "        \"\"\"\n",
    "        A helper function to calculate the .min\n",
    "        attribute.\n",
    "        \"\"\"\n",
    "        is_empty = len(self._data) == 0\n",
    "        \n",
    "        types = []\n",
    "        for i in self._data:\n",
    "            i_type = type(i)\n",
    "            if i_type not in types:\n",
    "                types.append(i_type)\n",
    "        more_than_one_type = len(types) > 1\n",
    "\n",
    "        if is_empty or more_than_one_type:\n",
    "            self.min = None\n",
    "        else:\n",
    "            self.min = min(self._data)\n",
    "            \n",
    "    def _calc_types(self):\n",
    "        types = []\n",
    "        for item in self._data:\n",
    "            item_type = type(item)\n",
    "            if item_type not in types:\n",
    "                types.append(item_type)\n",
    "        self.types = types\n",
    "\n",
    "    def _update(self):\n",
    "        \"\"\"\n",
    "        A helper method to call other helper methods\n",
    "        and update attributes when underlying\n",
    "        data changes.\n",
    "        \"\"\"\n",
    "        self._calc_length()\n",
    "        self._calc_min()\n",
    "        self._calc_max()\n",
    "        self._calc_types()\n",
    "    \n",
    "    def append(self, new_item):\n",
    "        \"\"\"\n",
    "        Append `new_item` to the SuperList\n",
    "        \"\"\"\n",
    "        self._data = self._data + [new_item]\n",
    "        self._update()\n",
    "    \n",
    "    def reverse(self):\n",
    "        \"\"\"\n",
    "        Reverse the order of items in the SuperList\n",
    "        \"\"\"\n",
    "        self._data = self._data[::-1]\n",
    "\n",
    "    def info(self):\n",
    "        \"\"\"\n",
    "        Print summary data about the SuperList\n",
    "        \"\"\"\n",
    "        \n",
    "        template = '''\\\n",
    "List Length:     {}\n",
    "Max Value:       {}\n",
    "Min Value:       {}\n",
    "Types Contained: {}\n",
    "'''\n",
    "        info = template.format(self.length,\n",
    "                          self.max,\n",
    "                          self.min,\n",
    "                          self.types)\n",
    "        print(info)"
   ]
  },
  {
   "cell_type": "code",
   "execution_count": 15,
   "metadata": {},
   "outputs": [
    {
     "name": "stdout",
     "output_type": "stream",
     "text": [
      "<bound method SuperList.info of [18, 28, 35]> 18 35\n"
     ]
    }
   ],
   "source": [
    "temperatures = SuperList([18, 28, 35])\n",
    "print(temperatures.info, temperatures.min, temperatures.max)"
   ]
  },
  {
   "cell_type": "code",
   "execution_count": 16,
   "metadata": {},
   "outputs": [
    {
     "name": "stdout",
     "output_type": "stream",
     "text": [
      "-12 35\n"
     ]
    }
   ],
   "source": [
    "temperatures.append(-12)\n",
    "print(temperatures.min, temperatures.max)"
   ]
  },
  {
   "cell_type": "code",
   "execution_count": 17,
   "metadata": {},
   "outputs": [
    {
     "name": "stdout",
     "output_type": "stream",
     "text": [
      "-12 42\n"
     ]
    }
   ],
   "source": [
    "temperatures.append(42)\n",
    "print(temperatures.min, temperatures.max)"
   ]
  }
 ],
 "metadata": {
  "kernelspec": {
   "display_name": "Python 3",
   "language": "python",
   "name": "python3"
  },
  "language_info": {
   "codemirror_mode": {
    "name": "ipython",
    "version": 3
   },
   "file_extension": ".py",
   "mimetype": "text/x-python",
   "name": "python",
   "nbconvert_exporter": "python",
   "pygments_lexer": "ipython3",
   "version": "3.7.2"
  }
 },
 "nbformat": 4,
 "nbformat_minor": 2
}
